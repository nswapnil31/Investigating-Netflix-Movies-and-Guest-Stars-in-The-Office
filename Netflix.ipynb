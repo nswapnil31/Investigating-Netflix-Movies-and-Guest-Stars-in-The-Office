{
  "cells": [
    {
      "cell_type": "markdown",
      "metadata": {
        "id": "view-in-github",
        "colab_type": "text"
      },
      "source": [
        "<a href=\"https://colab.research.google.com/github/nswapnil31/Investigating-Netflix-Movies-and-Guest-Stars-in-The-Office/blob/main/Netflix.ipynb\" target=\"_parent\"><img src=\"https://colab.research.google.com/assets/colab-badge.svg\" alt=\"Open In Colab\"/></a>"
      ]
    },
    {
      "metadata": {
        "dc": {
          "key": "4"
        },
        "deletable": false,
        "editable": false,
        "run_control": {
          "frozen": true
        },
        "tags": [
          "context"
        ],
        "id": "4r6ai9RGsO8j"
      },
      "cell_type": "markdown",
      "source": [
        "## 1. Loading your friend's data into a dictionary\n",
        "<p><img src=\"https://assets.datacamp.com/production/project_1237/img/netflix.jpg\" alt=\"Someone's feet on table facing a television\"></p>\n",
        "<p>Netflix! What started in 1997 as a DVD rental service has since exploded into the largest entertainment/media company by <a href=\"https://www.marketwatch.com/story/netflix-shares-close-up-8-for-yet-another-record-high-2020-07-10\">market capitalization</a>, boasting over 200 million subscribers as of <a href=\"https://www.cbsnews.com/news/netflix-tops-200-million-subscribers-but-faces-growing-challenge-from-disney-plus/\">January 2021</a>.</p>\n",
        "<p>Given the large number of movies and series available on the platform, it is a perfect opportunity to flex our data manipulation skills and dive into the entertainment industry. Our friend has also been brushing up on their Python skills and has taken a first crack at a CSV file containing Netflix data. For their first order of business, they have been performing some analyses, and they believe that the average duration of movies has been declining. </p>\n",
        "<p>As evidence of this, they have provided us with the following information. For the years from 2011 to 2020, the average movie durations are 103, 101, 99, 100, 100, 95, 95, 96, 93, and 90, respectively.</p>\n",
        "<p>If we're going to be working with this data, we know a good place to start would be to probably start working with <code>pandas</code>. But first we'll need to create a DataFrame from scratch. Let's start by creating a Python object covered in <a href=\"https://learn.datacamp.com/courses/intermediate-python\">Intermediate Python</a>: a dictionary!</p>"
      ]
    },
    {
      "metadata": {
        "dc": {
          "key": "4"
        },
        "tags": [
          "sample_code"
        ],
        "trusted": true,
        "colab": {
          "base_uri": "https://localhost:8080/"
        },
        "id": "h_LABHVIsO8n",
        "outputId": "6c6a1802-f64a-461d-e24c-a56fb0652865"
      },
      "cell_type": "code",
      "source": [
        "# Create the years and durations lists\n",
        "years = [2011,2012,2013,2014,2015,2016,2017,2018,2019,2020]\n",
        "durations = [103, 101, 99, 100, 100, 95, 95, 96, 93, 90]\n",
        "# Create a dictionary with the two lists\n",
        "movie_dict = {\"years\" : years,\"durations\":durations}\n",
        "\n",
        "# Print the dictionary\n",
        "movie_dict"
      ],
      "execution_count": 2,
      "outputs": [
        {
          "output_type": "execute_result",
          "data": {
            "text/plain": [
              "{'durations': [103, 101, 99, 100, 100, 95, 95, 96, 93, 90],\n",
              " 'years': [2011, 2012, 2013, 2014, 2015, 2016, 2017, 2018, 2019, 2020]}"
            ]
          },
          "metadata": {},
          "execution_count": 2
        }
      ]
    },
    {
      "metadata": {
        "dc": {
          "key": "11"
        },
        "deletable": false,
        "editable": false,
        "run_control": {
          "frozen": true
        },
        "tags": [
          "context"
        ],
        "id": "o6kyqzilsO8p"
      },
      "cell_type": "markdown",
      "source": [
        "## 2. Creating a DataFrame from a dictionary\n",
        "<p>To convert our dictionary <code>movie_dict</code> to a <code>pandas</code> DataFrame, we will first need to import the library under its usual alias. We'll also want to inspect our DataFrame to ensure it was created correctly. Let's perform these steps now.</p>"
      ]
    },
    {
      "metadata": {
        "dc": {
          "key": "11"
        },
        "tags": [
          "sample_code"
        ],
        "trusted": true,
        "colab": {
          "base_uri": "https://localhost:8080/",
          "height": 363
        },
        "id": "nlyzFJGrsO8p",
        "outputId": "711a1496-1655-4b90-88eb-1f509c1bcbfc"
      },
      "cell_type": "code",
      "source": [
        "# Import pandas under its usual alias\n",
        "import pandas as pd\n",
        "\n",
        "# Create a DataFrame from the dictionary\n",
        "durations_df = pd.DataFrame(movie_dict)\n",
        "\n",
        "# Print the DataFrame\n",
        "durations_df"
      ],
      "execution_count": 3,
      "outputs": [
        {
          "output_type": "execute_result",
          "data": {
            "text/plain": [
              "   years  durations\n",
              "0   2011        103\n",
              "1   2012        101\n",
              "2   2013         99\n",
              "3   2014        100\n",
              "4   2015        100\n",
              "5   2016         95\n",
              "6   2017         95\n",
              "7   2018         96\n",
              "8   2019         93\n",
              "9   2020         90"
            ],
            "text/html": [
              "\n",
              "  <div id=\"df-26ec2712-01e7-4134-975c-1d802ccf4f5d\">\n",
              "    <div class=\"colab-df-container\">\n",
              "      <div>\n",
              "<style scoped>\n",
              "    .dataframe tbody tr th:only-of-type {\n",
              "        vertical-align: middle;\n",
              "    }\n",
              "\n",
              "    .dataframe tbody tr th {\n",
              "        vertical-align: top;\n",
              "    }\n",
              "\n",
              "    .dataframe thead th {\n",
              "        text-align: right;\n",
              "    }\n",
              "</style>\n",
              "<table border=\"1\" class=\"dataframe\">\n",
              "  <thead>\n",
              "    <tr style=\"text-align: right;\">\n",
              "      <th></th>\n",
              "      <th>years</th>\n",
              "      <th>durations</th>\n",
              "    </tr>\n",
              "  </thead>\n",
              "  <tbody>\n",
              "    <tr>\n",
              "      <th>0</th>\n",
              "      <td>2011</td>\n",
              "      <td>103</td>\n",
              "    </tr>\n",
              "    <tr>\n",
              "      <th>1</th>\n",
              "      <td>2012</td>\n",
              "      <td>101</td>\n",
              "    </tr>\n",
              "    <tr>\n",
              "      <th>2</th>\n",
              "      <td>2013</td>\n",
              "      <td>99</td>\n",
              "    </tr>\n",
              "    <tr>\n",
              "      <th>3</th>\n",
              "      <td>2014</td>\n",
              "      <td>100</td>\n",
              "    </tr>\n",
              "    <tr>\n",
              "      <th>4</th>\n",
              "      <td>2015</td>\n",
              "      <td>100</td>\n",
              "    </tr>\n",
              "    <tr>\n",
              "      <th>5</th>\n",
              "      <td>2016</td>\n",
              "      <td>95</td>\n",
              "    </tr>\n",
              "    <tr>\n",
              "      <th>6</th>\n",
              "      <td>2017</td>\n",
              "      <td>95</td>\n",
              "    </tr>\n",
              "    <tr>\n",
              "      <th>7</th>\n",
              "      <td>2018</td>\n",
              "      <td>96</td>\n",
              "    </tr>\n",
              "    <tr>\n",
              "      <th>8</th>\n",
              "      <td>2019</td>\n",
              "      <td>93</td>\n",
              "    </tr>\n",
              "    <tr>\n",
              "      <th>9</th>\n",
              "      <td>2020</td>\n",
              "      <td>90</td>\n",
              "    </tr>\n",
              "  </tbody>\n",
              "</table>\n",
              "</div>\n",
              "      <button class=\"colab-df-convert\" onclick=\"convertToInteractive('df-26ec2712-01e7-4134-975c-1d802ccf4f5d')\"\n",
              "              title=\"Convert this dataframe to an interactive table.\"\n",
              "              style=\"display:none;\">\n",
              "        \n",
              "  <svg xmlns=\"http://www.w3.org/2000/svg\" height=\"24px\"viewBox=\"0 0 24 24\"\n",
              "       width=\"24px\">\n",
              "    <path d=\"M0 0h24v24H0V0z\" fill=\"none\"/>\n",
              "    <path d=\"M18.56 5.44l.94 2.06.94-2.06 2.06-.94-2.06-.94-.94-2.06-.94 2.06-2.06.94zm-11 1L8.5 8.5l.94-2.06 2.06-.94-2.06-.94L8.5 2.5l-.94 2.06-2.06.94zm10 10l.94 2.06.94-2.06 2.06-.94-2.06-.94-.94-2.06-.94 2.06-2.06.94z\"/><path d=\"M17.41 7.96l-1.37-1.37c-.4-.4-.92-.59-1.43-.59-.52 0-1.04.2-1.43.59L10.3 9.45l-7.72 7.72c-.78.78-.78 2.05 0 2.83L4 21.41c.39.39.9.59 1.41.59.51 0 1.02-.2 1.41-.59l7.78-7.78 2.81-2.81c.8-.78.8-2.07 0-2.86zM5.41 20L4 18.59l7.72-7.72 1.47 1.35L5.41 20z\"/>\n",
              "  </svg>\n",
              "      </button>\n",
              "      \n",
              "  <style>\n",
              "    .colab-df-container {\n",
              "      display:flex;\n",
              "      flex-wrap:wrap;\n",
              "      gap: 12px;\n",
              "    }\n",
              "\n",
              "    .colab-df-convert {\n",
              "      background-color: #E8F0FE;\n",
              "      border: none;\n",
              "      border-radius: 50%;\n",
              "      cursor: pointer;\n",
              "      display: none;\n",
              "      fill: #1967D2;\n",
              "      height: 32px;\n",
              "      padding: 0 0 0 0;\n",
              "      width: 32px;\n",
              "    }\n",
              "\n",
              "    .colab-df-convert:hover {\n",
              "      background-color: #E2EBFA;\n",
              "      box-shadow: 0px 1px 2px rgba(60, 64, 67, 0.3), 0px 1px 3px 1px rgba(60, 64, 67, 0.15);\n",
              "      fill: #174EA6;\n",
              "    }\n",
              "\n",
              "    [theme=dark] .colab-df-convert {\n",
              "      background-color: #3B4455;\n",
              "      fill: #D2E3FC;\n",
              "    }\n",
              "\n",
              "    [theme=dark] .colab-df-convert:hover {\n",
              "      background-color: #434B5C;\n",
              "      box-shadow: 0px 1px 3px 1px rgba(0, 0, 0, 0.15);\n",
              "      filter: drop-shadow(0px 1px 2px rgba(0, 0, 0, 0.3));\n",
              "      fill: #FFFFFF;\n",
              "    }\n",
              "  </style>\n",
              "\n",
              "      <script>\n",
              "        const buttonEl =\n",
              "          document.querySelector('#df-26ec2712-01e7-4134-975c-1d802ccf4f5d button.colab-df-convert');\n",
              "        buttonEl.style.display =\n",
              "          google.colab.kernel.accessAllowed ? 'block' : 'none';\n",
              "\n",
              "        async function convertToInteractive(key) {\n",
              "          const element = document.querySelector('#df-26ec2712-01e7-4134-975c-1d802ccf4f5d');\n",
              "          const dataTable =\n",
              "            await google.colab.kernel.invokeFunction('convertToInteractive',\n",
              "                                                     [key], {});\n",
              "          if (!dataTable) return;\n",
              "\n",
              "          const docLinkHtml = 'Like what you see? Visit the ' +\n",
              "            '<a target=\"_blank\" href=https://colab.research.google.com/notebooks/data_table.ipynb>data table notebook</a>'\n",
              "            + ' to learn more about interactive tables.';\n",
              "          element.innerHTML = '';\n",
              "          dataTable['output_type'] = 'display_data';\n",
              "          await google.colab.output.renderOutput(dataTable, element);\n",
              "          const docLink = document.createElement('div');\n",
              "          docLink.innerHTML = docLinkHtml;\n",
              "          element.appendChild(docLink);\n",
              "        }\n",
              "      </script>\n",
              "    </div>\n",
              "  </div>\n",
              "  "
            ]
          },
          "metadata": {},
          "execution_count": 3
        }
      ]
    },
    {
      "metadata": {
        "dc": {
          "key": "18"
        },
        "deletable": false,
        "editable": false,
        "run_control": {
          "frozen": true
        },
        "tags": [
          "context"
        ],
        "id": "cAJ8bz0bsO8q"
      },
      "cell_type": "markdown",
      "source": [
        "## 3. A visual inspection of our data\n",
        "<p>Alright, we now have a <code>pandas</code> DataFrame, the most common way to work with tabular data in Python. Now back to the task at hand. We want to follow up on our friend's assertion that movie lengths have been decreasing over time. A great place to start will be a visualization of the data.</p>\n",
        "<p>Given that the data is continuous, a line plot would be a good choice, with the dates represented along the x-axis and the average length in minutes along the y-axis. This will allow us to easily spot any trends in movie durations. There are many ways to visualize data in Python, but <code>matploblib.pyplot</code> is one of the most common packages to do so.</p>\n",
        "<p><em>Note: In order for us to correctly test your plot, you will need to initalize a <code>matplotlib.pyplot</code> Figure object, which we have already provided in the cell below. You can continue to create your plot as you have learned in Intermediate Python.</em></p>"
      ]
    },
    {
      "metadata": {
        "dc": {
          "key": "18"
        },
        "tags": [
          "sample_code"
        ],
        "trusted": true,
        "colab": {
          "base_uri": "https://localhost:8080/",
          "height": 295
        },
        "id": "g3Mi9KqjsO8q",
        "outputId": "0b8eaab0-e76c-4acb-b45c-8ad4428a6feb"
      },
      "cell_type": "code",
      "source": [
        "# Import matplotlib.pyplot under its usual alias and create a figure\n",
        "import matplotlib.pyplot as plt\n",
        "fig = plt.figure()\n",
        "\n",
        "# Draw a line plot of release_years and durations\n",
        "plt.plot(durations_df['years'],durations_df['durations'])\n",
        "\n",
        "# Create a title\n",
        "plt.title(\"Movie lengths trend over time\")\n",
        "plt.xlabel(\"Movie Release Year\")\n",
        "plt.ylabel(\"Movie Length (Min)\")\n",
        "\n",
        "# Show the plot\n",
        "plt.show()"
      ],
      "execution_count": 4,
      "outputs": [
        {
          "output_type": "display_data",
          "data": {
            "text/plain": [
              "<Figure size 432x288 with 1 Axes>"
            ],
            "image/png": "[encoded data removed]"
          },
          "metadata": {
            "needs_background": "light"
          }
        }
      ]
    },
    {
      "metadata": {
        "dc": {
          "key": "25"
        },
        "deletable": false,
        "editable": false,
        "run_control": {
          "frozen": true
        },
        "tags": [
          "context"
        ],
        "id": "G_IUuRzZsO8r"
      },
      "cell_type": "markdown",
      "source": [
        "## 4. Loading the rest of the data from a CSV\n",
        "<p>Well, it looks like there is something to the idea that movie lengths have decreased over the past ten years! But equipped only with our friend's aggregations, we're limited in the further explorations we can perform. There are a few questions about this trend that we are currently unable to answer, including:</p>\n",
        "<ol>\n",
        "<li>What does this trend look like over a longer period of time?</li>\n",
        "<li>Is this explainable by something like the genre of entertainment?</li>\n",
        "</ol>\n",
        "<p>Upon asking our friend for the original CSV they used to perform their analyses, they gladly oblige and send it. We now have access to the CSV file, available at the path <code>\"datasets/netflix_data.csv\"</code>. Let's create another DataFrame, this time with all of the data. Given the length of our friend's data, printing the whole DataFrame is probably not a good idea, so we will inspect it by printing only the first five rows.</p>"
      ]
    },
    {
      "metadata": {
        "dc": {
          "key": "25"
        },
        "tags": [
          "sample_code"
        ],
        "trusted": true,
        "colab": {
          "base_uri": "https://localhost:8080/",
          "height": 424
        },
        "id": "Kl2AIUPJsO8s",
        "outputId": "4db6d50b-88a8-4162-ee52-202002d7fdce"
      },
      "cell_type": "code",
      "source": [
        "# Read in the CSV as a DataFrame\n",
        "netflix_df = pd.read_csv(\"/content/sample_data/netflix_data.csv\")\n",
        "\n",
        "# Print the first five rows of the DataFrame\n",
        "netflix_df.head()"
      ],
      "execution_count": 7,
      "outputs": [
        {
          "output_type": "execute_result",
          "data": {
            "text/plain": [
              "  show_id     type  title           director  \\\n",
              "0      s1  TV Show     3%                NaN   \n",
              "1      s2    Movie   7:19  Jorge Michel Grau   \n",
              "2      s3    Movie  23:59       Gilbert Chan   \n",
              "3      s4    Movie      9        Shane Acker   \n",
              "4      s5    Movie     21     Robert Luketic   \n",
              "\n",
              "                                                cast        country  \\\n",
              "0  João Miguel, Bianca Comparato, Michel Gomes, R...         Brazil   \n",
              "1  Demián Bichir, Héctor Bonilla, Oscar Serrano, ...         Mexico   \n",
              "2  Tedd Chan, Stella Chung, Henley Hii, Lawrence ...      Singapore   \n",
              "3  Elijah Wood, John C. Reilly, Jennifer Connelly...  United States   \n",
              "4  Jim Sturgess, Kevin Spacey, Kate Bosworth, Aar...  United States   \n",
              "\n",
              "          date_added  release_year  duration  \\\n",
              "0    August 14, 2020          2020         4   \n",
              "1  December 23, 2016          2016        93   \n",
              "2  December 20, 2018          2011        78   \n",
              "3  November 16, 2017          2009        80   \n",
              "4    January 1, 2020          2008       123   \n",
              "\n",
              "                                         description             genre  \n",
              "0  In a future where the elite inhabit an island ...  International TV  \n",
              "1  After a devastating earthquake hits Mexico Cit...            Dramas  \n",
              "2  When an army recruit is found dead, his fellow...     Horror Movies  \n",
              "3  In a postapocalyptic world, rag-doll robots hi...            Action  \n",
              "4  A brilliant group of students become card-coun...            Dramas  "
            ],
            "text/html": [
              "\n",
              "  <div id=\"df-83603718-c6de-454f-96d2-3c45a3749e02\">\n",
              "    <div class=\"colab-df-container\">\n",
              "      <div>\n",
              "<style scoped>\n",
              "    .dataframe tbody tr th:only-of-type {\n",
              "        vertical-align: middle;\n",
              "    }\n",
              "\n",
              "    .dataframe tbody tr th {\n",
              "        vertical-align: top;\n",
              "    }\n",
              "\n",
              "    .dataframe thead th {\n",
              "        text-align: right;\n",
              "    }\n",
              "</style>\n",
              "<table border=\"1\" class=\"dataframe\">\n",
              "  <thead>\n",
              "    <tr style=\"text-align: right;\">\n",
              "      <th></th>\n",
              "      <th>show_id</th>\n",
              "      <th>type</th>\n",
              "      <th>title</th>\n",
              "      <th>director</th>\n",
              "      <th>cast</th>\n",
              "      <th>country</th>\n",
              "      <th>date_added</th>\n",
              "      <th>release_year</th>\n",
              "      <th>duration</th>\n",
              "      <th>description</th>\n",
              "      <th>genre</th>\n",
              "    </tr>\n",
              "  </thead>\n",
              "  <tbody>\n",
              "    <tr>\n",
              "      <th>0</th>\n",
              "      <td>s1</td>\n",
              "      <td>TV Show</td>\n",
              "      <td>3%</td>\n",
              "      <td>NaN</td>\n",
              "      <td>João Miguel, Bianca Comparato, Michel Gomes, R...</td>\n",
              "      <td>Brazil</td>\n",
              "      <td>August 14, 2020</td>\n",
              "      <td>2020</td>\n",
              "      <td>4</td>\n",
              "      <td>In a future where the elite inhabit an island ...</td>\n",
              "      <td>International TV</td>\n",
              "    </tr>\n",
              "    <tr>\n",
              "      <th>1</th>\n",
              "      <td>s2</td>\n",
              "      <td>Movie</td>\n",
              "      <td>7:19</td>\n",
              "      <td>Jorge Michel Grau</td>\n",
              "      <td>Demián Bichir, Héctor Bonilla, Oscar Serrano, ...</td>\n",
              "      <td>Mexico</td>\n",
              "      <td>December 23, 2016</td>\n",
              "      <td>2016</td>\n",
              "      <td>93</td>\n",
              "      <td>After a devastating earthquake hits Mexico Cit...</td>\n",
              "      <td>Dramas</td>\n",
              "    </tr>\n",
              "    <tr>\n",
              "      <th>2</th>\n",
              "      <td>s3</td>\n",
              "      <td>Movie</td>\n",
              "      <td>23:59</td>\n",
              "      <td>Gilbert Chan</td>\n",
              "      <td>Tedd Chan, Stella Chung, Henley Hii, Lawrence ...</td>\n",
              "      <td>Singapore</td>\n",
              "      <td>December 20, 2018</td>\n",
              "      <td>2011</td>\n",
              "      <td>78</td>\n",
              "      <td>When an army recruit is found dead, his fellow...</td>\n",
              "      <td>Horror Movies</td>\n",
              "    </tr>\n",
              "    <tr>\n",
              "      <th>3</th>\n",
              "      <td>s4</td>\n",
              "      <td>Movie</td>\n",
              "      <td>9</td>\n",
              "      <td>Shane Acker</td>\n",
              "      <td>Elijah Wood, John C. Reilly, Jennifer Connelly...</td>\n",
              "      <td>United States</td>\n",
              "      <td>November 16, 2017</td>\n",
              "      <td>2009</td>\n",
              "      <td>80</td>\n",
              "      <td>In a postapocalyptic world, rag-doll robots hi...</td>\n",
              "      <td>Action</td>\n",
              "    </tr>\n",
              "    <tr>\n",
              "      <th>4</th>\n",
              "      <td>s5</td>\n",
              "      <td>Movie</td>\n",
              "      <td>21</td>\n",
              "      <td>Robert Luketic</td>\n",
              "      <td>Jim Sturgess, Kevin Spacey, Kate Bosworth, Aar...</td>\n",
              "      <td>United States</td>\n",
              "      <td>January 1, 2020</td>\n",
              "      <td>2008</td>\n",
              "      <td>123</td>\n",
              "      <td>A brilliant group of students become card-coun...</td>\n",
              "      <td>Dramas</td>\n",
              "    </tr>\n",
              "  </tbody>\n",
              "</table>\n",
              "</div>\n",
              "      <button class=\"colab-df-convert\" onclick=\"convertToInteractive('df-83603718-c6de-454f-96d2-3c45a3749e02')\"\n",
              "              title=\"Convert this dataframe to an interactive table.\"\n",
              "              style=\"display:none;\">\n",
              "        \n",
              "  <svg xmlns=\"http://www.w3.org/2000/svg\" height=\"24px\"viewBox=\"0 0 24 24\"\n",
              "       width=\"24px\">\n",
              "    <path d=\"M0 0h24v24H0V0z\" fill=\"none\"/>\n",
              "    <path d=\"M18.56 5.44l.94 2.06.94-2.06 2.06-.94-2.06-.94-.94-2.06-.94 2.06-2.06.94zm-11 1L8.5 8.5l.94-2.06 2.06-.94-2.06-.94L8.5 2.5l-.94 2.06-2.06.94zm10 10l.94 2.06.94-2.06 2.06-.94-2.06-.94-.94-2.06-.94 2.06-2.06.94z\"/><path d=\"M17.41 7.96l-1.37-1.37c-.4-.4-.92-.59-1.43-.59-.52 0-1.04.2-1.43.59L10.3 9.45l-7.72 7.72c-.78.78-.78 2.05 0 2.83L4 21.41c.39.39.9.59 1.41.59.51 0 1.02-.2 1.41-.59l7.78-7.78 2.81-2.81c.8-.78.8-2.07 0-2.86zM5.41 20L4 18.59l7.72-7.72 1.47 1.35L5.41 20z\"/>\n",
              "  </svg>\n",
              "      </button>\n",
              "      \n",
              "  <style>\n",
              "    .colab-df-container {\n",
              "      display:flex;\n",
              "      flex-wrap:wrap;\n",
              "      gap: 12px;\n",
              "    }\n",
              "\n",
              "    .colab-df-convert {\n",
              "      background-color: #E8F0FE;\n",
              "      border: none;\n",
              "      border-radius: 50%;\n",
              "      cursor: pointer;\n",
              "      display: none;\n",
              "      fill: #1967D2;\n",
              "      height: 32px;\n",
              "      padding: 0 0 0 0;\n",
              "      width: 32px;\n",
              "    }\n",
              "\n",
              "    .colab-df-convert:hover {\n",
              "      background-color: #E2EBFA;\n",
              "      box-shadow: 0px 1px 2px rgba(60, 64, 67, 0.3), 0px 1px 3px 1px rgba(60, 64, 67, 0.15);\n",
              "      fill: #174EA6;\n",
              "    }\n",
              "\n",
              "    [theme=dark] .colab-df-convert {\n",
              "      background-color: #3B4455;\n",
              "      fill: #D2E3FC;\n",
              "    }\n",
              "\n",
              "    [theme=dark] .colab-df-convert:hover {\n",
              "      background-color: #434B5C;\n",
              "      box-shadow: 0px 1px 3px 1px rgba(0, 0, 0, 0.15);\n",
              "      filter: drop-shadow(0px 1px 2px rgba(0, 0, 0, 0.3));\n",
              "      fill: #FFFFFF;\n",
              "    }\n",
              "  </style>\n",
              "\n",
              "      <script>\n",
              "        const buttonEl =\n",
              "          document.querySelector('#df-83603718-c6de-454f-96d2-3c45a3749e02 button.colab-df-convert');\n",
              "        buttonEl.style.display =\n",
              "          google.colab.kernel.accessAllowed ? 'block' : 'none';\n",
              "\n",
              "        async function convertToInteractive(key) {\n",
              "          const element = document.querySelector('#df-83603718-c6de-454f-96d2-3c45a3749e02');\n",
              "          const dataTable =\n",
              "            await google.colab.kernel.invokeFunction('convertToInteractive',\n",
              "                                                     [key], {});\n",
              "          if (!dataTable) return;\n",
              "\n",
              "          const docLinkHtml = 'Like what you see? Visit the ' +\n",
              "            '<a target=\"_blank\" href=https://colab.research.google.com/notebooks/data_table.ipynb>data table notebook</a>'\n",
              "            + ' to learn more about interactive tables.';\n",
              "          element.innerHTML = '';\n",
              "          dataTable['output_type'] = 'display_data';\n",
              "          await google.colab.output.renderOutput(dataTable, element);\n",
              "          const docLink = document.createElement('div');\n",
              "          docLink.innerHTML = docLinkHtml;\n",
              "          element.appendChild(docLink);\n",
              "        }\n",
              "      </script>\n",
              "    </div>\n",
              "  </div>\n",
              "  "
            ]
          },
          "metadata": {},
          "execution_count": 7
        }
      ]
    },
    {
      "cell_type": "code",
      "source": [
        "netflix_df.info(null_counts = True)"
      ],
      "metadata": {
        "colab": {
          "base_uri": "https://localhost:8080/"
        },
        "id": "L7EjMjb4uCfw",
        "outputId": "343d1de3-941d-4b85-e0e7-522fb7991e5d"
      },
      "execution_count": 10,
      "outputs": [
        {
          "output_type": "stream",
          "name": "stdout",
          "text": [
            "<class 'pandas.core.frame.DataFrame'>\n",
            "RangeIndex: 7787 entries, 0 to 7786\n",
            "Data columns (total 11 columns):\n",
            " #   Column        Non-Null Count  Dtype \n",
            "---  ------        --------------  ----- \n",
            " 0   show_id       7787 non-null   object\n",
            " 1   type          7787 non-null   object\n",
            " 2   title         7787 non-null   object\n",
            " 3   director      5398 non-null   object\n",
            " 4   cast          7069 non-null   object\n",
            " 5   country       7280 non-null   object\n",
            " 6   date_added    7777 non-null   object\n",
            " 7   release_year  7787 non-null   int64 \n",
            " 8   duration      7787 non-null   int64 \n",
            " 9   description   7787 non-null   object\n",
            " 10  genre         7787 non-null   object\n",
            "dtypes: int64(2), object(9)\n",
            "memory usage: 669.3+ KB\n"
          ]
        },
        {
          "output_type": "stream",
          "name": "stderr",
          "text": [
            "/usr/local/lib/python3.7/dist-packages/ipykernel_launcher.py:1: FutureWarning: null_counts is deprecated. Use show_counts instead\n",
            "  \"\"\"Entry point for launching an IPython kernel.\n"
          ]
        }
      ]
    },
    {
      "cell_type": "code",
      "source": [
        "netflix_df.describe()"
      ],
      "metadata": {
        "colab": {
          "base_uri": "https://localhost:8080/",
          "height": 300
        },
        "id": "DrkG5qCosvYt",
        "outputId": "2a23e163-9b72-499c-e3aa-eeeeaf586ba3"
      },
      "execution_count": 8,
      "outputs": [
        {
          "output_type": "execute_result",
          "data": {
            "text/plain": [
              "       release_year     duration\n",
              "count   7787.000000  7787.000000\n",
              "mean    2013.932580    69.122769\n",
              "std        8.757395    50.950743\n",
              "min     1925.000000     1.000000\n",
              "25%     2013.000000     2.000000\n",
              "50%     2017.000000    88.000000\n",
              "75%     2018.000000   106.000000\n",
              "max     2021.000000   312.000000"
            ],
            "text/html": [
              "\n",
              "  <div id=\"df-99b62e93-e831-492f-8f43-522b80425f49\">\n",
              "    <div class=\"colab-df-container\">\n",
              "      <div>\n",
              "<style scoped>\n",
              "    .dataframe tbody tr th:only-of-type {\n",
              "        vertical-align: middle;\n",
              "    }\n",
              "\n",
              "    .dataframe tbody tr th {\n",
              "        vertical-align: top;\n",
              "    }\n",
              "\n",
              "    .dataframe thead th {\n",
              "        text-align: right;\n",
              "    }\n",
              "</style>\n",
              "<table border=\"1\" class=\"dataframe\">\n",
              "  <thead>\n",
              "    <tr style=\"text-align: right;\">\n",
              "      <th></th>\n",
              "      <th>release_year</th>\n",
              "      <th>duration</th>\n",
              "    </tr>\n",
              "  </thead>\n",
              "  <tbody>\n",
              "    <tr>\n",
              "      <th>count</th>\n",
              "      <td>7787.000000</td>\n",
              "      <td>7787.000000</td>\n",
              "    </tr>\n",
              "    <tr>\n",
              "      <th>mean</th>\n",
              "      <td>2013.932580</td>\n",
              "      <td>69.122769</td>\n",
              "    </tr>\n",
              "    <tr>\n",
              "      <th>std</th>\n",
              "      <td>8.757395</td>\n",
              "      <td>50.950743</td>\n",
              "    </tr>\n",
              "    <tr>\n",
              "      <th>min</th>\n",
              "      <td>1925.000000</td>\n",
              "      <td>1.000000</td>\n",
              "    </tr>\n",
              "    <tr>\n",
              "      <th>25%</th>\n",
              "      <td>2013.000000</td>\n",
              "      <td>2.000000</td>\n",
              "    </tr>\n",
              "    <tr>\n",
              "      <th>50%</th>\n",
              "      <td>2017.000000</td>\n",
              "      <td>88.000000</td>\n",
              "    </tr>\n",
              "    <tr>\n",
              "      <th>75%</th>\n",
              "      <td>2018.000000</td>\n",
              "      <td>106.000000</td>\n",
              "    </tr>\n",
              "    <tr>\n",
              "      <th>max</th>\n",
              "      <td>2021.000000</td>\n",
              "      <td>312.000000</td>\n",
              "    </tr>\n",
              "  </tbody>\n",
              "</table>\n",
              "</div>\n",
              "      <button class=\"colab-df-convert\" onclick=\"convertToInteractive('df-99b62e93-e831-492f-8f43-522b80425f49')\"\n",
              "              title=\"Convert this dataframe to an interactive table.\"\n",
              "              style=\"display:none;\">\n",
              "        \n",
              "  <svg xmlns=\"http://www.w3.org/2000/svg\" height=\"24px\"viewBox=\"0 0 24 24\"\n",
              "       width=\"24px\">\n",
              "    <path d=\"M0 0h24v24H0V0z\" fill=\"none\"/>\n",
              "    <path d=\"M18.56 5.44l.94 2.06.94-2.06 2.06-.94-2.06-.94-.94-2.06-.94 2.06-2.06.94zm-11 1L8.5 8.5l.94-2.06 2.06-.94-2.06-.94L8.5 2.5l-.94 2.06-2.06.94zm10 10l.94 2.06.94-2.06 2.06-.94-2.06-.94-.94-2.06-.94 2.06-2.06.94z\"/><path d=\"M17.41 7.96l-1.37-1.37c-.4-.4-.92-.59-1.43-.59-.52 0-1.04.2-1.43.59L10.3 9.45l-7.72 7.72c-.78.78-.78 2.05 0 2.83L4 21.41c.39.39.9.59 1.41.59.51 0 1.02-.2 1.41-.59l7.78-7.78 2.81-2.81c.8-.78.8-2.07 0-2.86zM5.41 20L4 18.59l7.72-7.72 1.47 1.35L5.41 20z\"/>\n",
              "  </svg>\n",
              "      </button>\n",
              "      \n",
              "  <style>\n",
              "    .colab-df-container {\n",
              "      display:flex;\n",
              "      flex-wrap:wrap;\n",
              "      gap: 12px;\n",
              "    }\n",
              "\n",
              "    .colab-df-convert {\n",
              "      background-color: #E8F0FE;\n",
              "      border: none;\n",
              "      border-radius: 50%;\n",
              "      cursor: pointer;\n",
              "      display: none;\n",
              "      fill: #1967D2;\n",
              "      height: 32px;\n",
              "      padding: 0 0 0 0;\n",
              "      width: 32px;\n",
              "    }\n",
              "\n",
              "    .colab-df-convert:hover {\n",
              "      background-color: #E2EBFA;\n",
              "      box-shadow: 0px 1px 2px rgba(60, 64, 67, 0.3), 0px 1px 3px 1px rgba(60, 64, 67, 0.15);\n",
              "      fill: #174EA6;\n",
              "    }\n",
              "\n",
              "    [theme=dark] .colab-df-convert {\n",
              "      background-color: #3B4455;\n",
              "      fill: #D2E3FC;\n",
              "    }\n",
              "\n",
              "    [theme=dark] .colab-df-convert:hover {\n",
              "      background-color: #434B5C;\n",
              "      box-shadow: 0px 1px 3px 1px rgba(0, 0, 0, 0.15);\n",
              "      filter: drop-shadow(0px 1px 2px rgba(0, 0, 0, 0.3));\n",
              "      fill: #FFFFFF;\n",
              "    }\n",
              "  </style>\n",
              "\n",
              "      <script>\n",
              "        const buttonEl =\n",
              "          document.querySelector('#df-99b62e93-e831-492f-8f43-522b80425f49 button.colab-df-convert');\n",
              "        buttonEl.style.display =\n",
              "          google.colab.kernel.accessAllowed ? 'block' : 'none';\n",
              "\n",
              "        async function convertToInteractive(key) {\n",
              "          const element = document.querySelector('#df-99b62e93-e831-492f-8f43-522b80425f49');\n",
              "          const dataTable =\n",
              "            await google.colab.kernel.invokeFunction('convertToInteractive',\n",
              "                                                     [key], {});\n",
              "          if (!dataTable) return;\n",
              "\n",
              "          const docLinkHtml = 'Like what you see? Visit the ' +\n",
              "            '<a target=\"_blank\" href=https://colab.research.google.com/notebooks/data_table.ipynb>data table notebook</a>'\n",
              "            + ' to learn more about interactive tables.';\n",
              "          element.innerHTML = '';\n",
              "          dataTable['output_type'] = 'display_data';\n",
              "          await google.colab.output.renderOutput(dataTable, element);\n",
              "          const docLink = document.createElement('div');\n",
              "          docLink.innerHTML = docLinkHtml;\n",
              "          element.appendChild(docLink);\n",
              "        }\n",
              "      </script>\n",
              "    </div>\n",
              "  </div>\n",
              "  "
            ]
          },
          "metadata": {},
          "execution_count": 8
        }
      ]
    },
    {
      "cell_type": "code",
      "source": [
        "netflix_df.groupby('country').size().sort_values(ascending=False).reset_index(name='Movie Count')"
      ],
      "metadata": {
        "colab": {
          "base_uri": "https://localhost:8080/",
          "height": 424
        },
        "id": "UG50eO9Lurej",
        "outputId": "5a104609-1d20-4abb-9ecf-ce5d17af3b55"
      },
      "execution_count": 11,
      "outputs": [
        {
          "output_type": "execute_result",
          "data": {
            "text/plain": [
              "           country  Movie Count\n",
              "0    United States         2883\n",
              "1            India          956\n",
              "2   United Kingdom          577\n",
              "3           Canada          259\n",
              "4            Japan          237\n",
              "..             ...          ...\n",
              "76       Mauritius            1\n",
              "77       Guatemala            1\n",
              "78          Jordan            1\n",
              "79         Jamaica            1\n",
              "80        Zimbabwe            1\n",
              "\n",
              "[81 rows x 2 columns]"
            ],
            "text/html": [
              "\n",
              "  <div id=\"df-6b55b62c-af2c-465a-8b11-cdd5c9acfd9e\">\n",
              "    <div class=\"colab-df-container\">\n",
              "      <div>\n",
              "<style scoped>\n",
              "    .dataframe tbody tr th:only-of-type {\n",
              "        vertical-align: middle;\n",
              "    }\n",
              "\n",
              "    .dataframe tbody tr th {\n",
              "        vertical-align: top;\n",
              "    }\n",
              "\n",
              "    .dataframe thead th {\n",
              "        text-align: right;\n",
              "    }\n",
              "</style>\n",
              "<table border=\"1\" class=\"dataframe\">\n",
              "  <thead>\n",
              "    <tr style=\"text-align: right;\">\n",
              "      <th></th>\n",
              "      <th>country</th>\n",
              "      <th>Movie Count</th>\n",
              "    </tr>\n",
              "  </thead>\n",
              "  <tbody>\n",
              "    <tr>\n",
              "      <th>0</th>\n",
              "      <td>United States</td>\n",
              "      <td>2883</td>\n",
              "    </tr>\n",
              "    <tr>\n",
              "      <th>1</th>\n",
              "      <td>India</td>\n",
              "      <td>956</td>\n",
              "    </tr>\n",
              "    <tr>\n",
              "      <th>2</th>\n",
              "      <td>United Kingdom</td>\n",
              "      <td>577</td>\n",
              "    </tr>\n",
              "    <tr>\n",
              "      <th>3</th>\n",
              "      <td>Canada</td>\n",
              "      <td>259</td>\n",
              "    </tr>\n",
              "    <tr>\n",
              "      <th>4</th>\n",
              "      <td>Japan</td>\n",
              "      <td>237</td>\n",
              "    </tr>\n",
              "    <tr>\n",
              "      <th>...</th>\n",
              "      <td>...</td>\n",
              "      <td>...</td>\n",
              "    </tr>\n",
              "    <tr>\n",
              "      <th>76</th>\n",
              "      <td>Mauritius</td>\n",
              "      <td>1</td>\n",
              "    </tr>\n",
              "    <tr>\n",
              "      <th>77</th>\n",
              "      <td>Guatemala</td>\n",
              "      <td>1</td>\n",
              "    </tr>\n",
              "    <tr>\n",
              "      <th>78</th>\n",
              "      <td>Jordan</td>\n",
              "      <td>1</td>\n",
              "    </tr>\n",
              "    <tr>\n",
              "      <th>79</th>\n",
              "      <td>Jamaica</td>\n",
              "      <td>1</td>\n",
              "    </tr>\n",
              "    <tr>\n",
              "      <th>80</th>\n",
              "      <td>Zimbabwe</td>\n",
              "      <td>1</td>\n",
              "    </tr>\n",
              "  </tbody>\n",
              "</table>\n",
              "<p>81 rows × 2 columns</p>\n",
              "</div>\n",
              "      <button class=\"colab-df-convert\" onclick=\"convertToInteractive('df-6b55b62c-af2c-465a-8b11-cdd5c9acfd9e')\"\n",
              "              title=\"Convert this dataframe to an interactive table.\"\n",
              "              style=\"display:none;\">\n",
              "        \n",
              "  <svg xmlns=\"http://www.w3.org/2000/svg\" height=\"24px\"viewBox=\"0 0 24 24\"\n",
              "       width=\"24px\">\n",
              "    <path d=\"M0 0h24v24H0V0z\" fill=\"none\"/>\n",
              "    <path d=\"M18.56 5.44l.94 2.06.94-2.06 2.06-.94-2.06-.94-.94-2.06-.94 2.06-2.06.94zm-11 1L8.5 8.5l.94-2.06 2.06-.94-2.06-.94L8.5 2.5l-.94 2.06-2.06.94zm10 10l.94 2.06.94-2.06 2.06-.94-2.06-.94-.94-2.06-.94 2.06-2.06.94z\"/><path d=\"M17.41 7.96l-1.37-1.37c-.4-.4-.92-.59-1.43-.59-.52 0-1.04.2-1.43.59L10.3 9.45l-7.72 7.72c-.78.78-.78 2.05 0 2.83L4 21.41c.39.39.9.59 1.41.59.51 0 1.02-.2 1.41-.59l7.78-7.78 2.81-2.81c.8-.78.8-2.07 0-2.86zM5.41 20L4 18.59l7.72-7.72 1.47 1.35L5.41 20z\"/>\n",
              "  </svg>\n",
              "      </button>\n",
              "      \n",
              "  <style>\n",
              "    .colab-df-container {\n",
              "      display:flex;\n",
              "      flex-wrap:wrap;\n",
              "      gap: 12px;\n",
              "    }\n",
              "\n",
              "    .colab-df-convert {\n",
              "      background-color: #E8F0FE;\n",
              "      border: none;\n",
              "      border-radius: 50%;\n",
              "      cursor: pointer;\n",
              "      display: none;\n",
              "      fill: #1967D2;\n",
              "      height: 32px;\n",
              "      padding: 0 0 0 0;\n",
              "      width: 32px;\n",
              "    }\n",
              "\n",
              "    .colab-df-convert:hover {\n",
              "      background-color: #E2EBFA;\n",
              "      box-shadow: 0px 1px 2px rgba(60, 64, 67, 0.3), 0px 1px 3px 1px rgba(60, 64, 67, 0.15);\n",
              "      fill: #174EA6;\n",
              "    }\n",
              "\n",
              "    [theme=dark] .colab-df-convert {\n",
              "      background-color: #3B4455;\n",
              "      fill: #D2E3FC;\n",
              "    }\n",
              "\n",
              "    [theme=dark] .colab-df-convert:hover {\n",
              "      background-color: #434B5C;\n",
              "      box-shadow: 0px 1px 3px 1px rgba(0, 0, 0, 0.15);\n",
              "      filter: drop-shadow(0px 1px 2px rgba(0, 0, 0, 0.3));\n",
              "      fill: #FFFFFF;\n",
              "    }\n",
              "  </style>\n",
              "\n",
              "      <script>\n",
              "        const buttonEl =\n",
              "          document.querySelector('#df-6b55b62c-af2c-465a-8b11-cdd5c9acfd9e button.colab-df-convert');\n",
              "        buttonEl.style.display =\n",
              "          google.colab.kernel.accessAllowed ? 'block' : 'none';\n",
              "\n",
              "        async function convertToInteractive(key) {\n",
              "          const element = document.querySelector('#df-6b55b62c-af2c-465a-8b11-cdd5c9acfd9e');\n",
              "          const dataTable =\n",
              "            await google.colab.kernel.invokeFunction('convertToInteractive',\n",
              "                                                     [key], {});\n",
              "          if (!dataTable) return;\n",
              "\n",
              "          const docLinkHtml = 'Like what you see? Visit the ' +\n",
              "            '<a target=\"_blank\" href=https://colab.research.google.com/notebooks/data_table.ipynb>data table notebook</a>'\n",
              "            + ' to learn more about interactive tables.';\n",
              "          element.innerHTML = '';\n",
              "          dataTable['output_type'] = 'display_data';\n",
              "          await google.colab.output.renderOutput(dataTable, element);\n",
              "          const docLink = document.createElement('div');\n",
              "          docLink.innerHTML = docLinkHtml;\n",
              "          element.appendChild(docLink);\n",
              "        }\n",
              "      </script>\n",
              "    </div>\n",
              "  </div>\n",
              "  "
            ]
          },
          "metadata": {},
          "execution_count": 11
        }
      ]
    },
    {
      "cell_type": "code",
      "source": [
        "netflix_df.groupby('type').size().sort_values(ascending=False).reset_index(name='Movie Count')"
      ],
      "metadata": {
        "colab": {
          "base_uri": "https://localhost:8080/",
          "height": 112
        },
        "id": "7vGDnG7Ju2VF",
        "outputId": "ac743a1b-8e5b-453c-cae9-8d6b3f432077"
      },
      "execution_count": 12,
      "outputs": [
        {
          "output_type": "execute_result",
          "data": {
            "text/plain": [
              "      type  Movie Count\n",
              "0    Movie         5377\n",
              "1  TV Show         2410"
            ],
            "text/html": [
              "\n",
              "  <div id=\"df-957eaccf-f79e-43fd-b7c7-dc859f7e0b82\">\n",
              "    <div class=\"colab-df-container\">\n",
              "      <div>\n",
              "<style scoped>\n",
              "    .dataframe tbody tr th:only-of-type {\n",
              "        vertical-align: middle;\n",
              "    }\n",
              "\n",
              "    .dataframe tbody tr th {\n",
              "        vertical-align: top;\n",
              "    }\n",
              "\n",
              "    .dataframe thead th {\n",
              "        text-align: right;\n",
              "    }\n",
              "</style>\n",
              "<table border=\"1\" class=\"dataframe\">\n",
              "  <thead>\n",
              "    <tr style=\"text-align: right;\">\n",
              "      <th></th>\n",
              "      <th>type</th>\n",
              "      <th>Movie Count</th>\n",
              "    </tr>\n",
              "  </thead>\n",
              "  <tbody>\n",
              "    <tr>\n",
              "      <th>0</th>\n",
              "      <td>Movie</td>\n",
              "      <td>5377</td>\n",
              "    </tr>\n",
              "    <tr>\n",
              "      <th>1</th>\n",
              "      <td>TV Show</td>\n",
              "      <td>2410</td>\n",
              "    </tr>\n",
              "  </tbody>\n",
              "</table>\n",
              "</div>\n",
              "      <button class=\"colab-df-convert\" onclick=\"convertToInteractive('df-957eaccf-f79e-43fd-b7c7-dc859f7e0b82')\"\n",
              "              title=\"Convert this dataframe to an interactive table.\"\n",
              "              style=\"display:none;\">\n",
              "        \n",
              "  <svg xmlns=\"http://www.w3.org/2000/svg\" height=\"24px\"viewBox=\"0 0 24 24\"\n",
              "       width=\"24px\">\n",
              "    <path d=\"M0 0h24v24H0V0z\" fill=\"none\"/>\n",
              "    <path d=\"M18.56 5.44l.94 2.06.94-2.06 2.06-.94-2.06-.94-.94-2.06-.94 2.06-2.06.94zm-11 1L8.5 8.5l.94-2.06 2.06-.94-2.06-.94L8.5 2.5l-.94 2.06-2.06.94zm10 10l.94 2.06.94-2.06 2.06-.94-2.06-.94-.94-2.06-.94 2.06-2.06.94z\"/><path d=\"M17.41 7.96l-1.37-1.37c-.4-.4-.92-.59-1.43-.59-.52 0-1.04.2-1.43.59L10.3 9.45l-7.72 7.72c-.78.78-.78 2.05 0 2.83L4 21.41c.39.39.9.59 1.41.59.51 0 1.02-.2 1.41-.59l7.78-7.78 2.81-2.81c.8-.78.8-2.07 0-2.86zM5.41 20L4 18.59l7.72-7.72 1.47 1.35L5.41 20z\"/>\n",
              "  </svg>\n",
              "      </button>\n",
              "      \n",
              "  <style>\n",
              "    .colab-df-container {\n",
              "      display:flex;\n",
              "      flex-wrap:wrap;\n",
              "      gap: 12px;\n",
              "    }\n",
              "\n",
              "    .colab-df-convert {\n",
              "      background-color: #E8F0FE;\n",
              "      border: none;\n",
              "      border-radius: 50%;\n",
              "      cursor: pointer;\n",
              "      display: none;\n",
              "      fill: #1967D2;\n",
              "      height: 32px;\n",
              "      padding: 0 0 0 0;\n",
              "      width: 32px;\n",
              "    }\n",
              "\n",
              "    .colab-df-convert:hover {\n",
              "      background-color: #E2EBFA;\n",
              "      box-shadow: 0px 1px 2px rgba(60, 64, 67, 0.3), 0px 1px 3px 1px rgba(60, 64, 67, 0.15);\n",
              "      fill: #174EA6;\n",
              "    }\n",
              "\n",
              "    [theme=dark] .colab-df-convert {\n",
              "      background-color: #3B4455;\n",
              "      fill: #D2E3FC;\n",
              "    }\n",
              "\n",
              "    [theme=dark] .colab-df-convert:hover {\n",
              "      background-color: #434B5C;\n",
              "      box-shadow: 0px 1px 3px 1px rgba(0, 0, 0, 0.15);\n",
              "      filter: drop-shadow(0px 1px 2px rgba(0, 0, 0, 0.3));\n",
              "      fill: #FFFFFF;\n",
              "    }\n",
              "  </style>\n",
              "\n",
              "      <script>\n",
              "        const buttonEl =\n",
              "          document.querySelector('#df-957eaccf-f79e-43fd-b7c7-dc859f7e0b82 button.colab-df-convert');\n",
              "        buttonEl.style.display =\n",
              "          google.colab.kernel.accessAllowed ? 'block' : 'none';\n",
              "\n",
              "        async function convertToInteractive(key) {\n",
              "          const element = document.querySelector('#df-957eaccf-f79e-43fd-b7c7-dc859f7e0b82');\n",
              "          const dataTable =\n",
              "            await google.colab.kernel.invokeFunction('convertToInteractive',\n",
              "                                                     [key], {});\n",
              "          if (!dataTable) return;\n",
              "\n",
              "          const docLinkHtml = 'Like what you see? Visit the ' +\n",
              "            '<a target=\"_blank\" href=https://colab.research.google.com/notebooks/data_table.ipynb>data table notebook</a>'\n",
              "            + ' to learn more about interactive tables.';\n",
              "          element.innerHTML = '';\n",
              "          dataTable['output_type'] = 'display_data';\n",
              "          await google.colab.output.renderOutput(dataTable, element);\n",
              "          const docLink = document.createElement('div');\n",
              "          docLink.innerHTML = docLinkHtml;\n",
              "          element.appendChild(docLink);\n",
              "        }\n",
              "      </script>\n",
              "    </div>\n",
              "  </div>\n",
              "  "
            ]
          },
          "metadata": {},
          "execution_count": 12
        }
      ]
    },
    {
      "cell_type": "code",
      "source": [
        "pd.crosstab(index=netflix_df['country'], columns=netflix_df['type'],margins=True).reset_index().sort_values('All',ascending=False)"
      ],
      "metadata": {
        "colab": {
          "base_uri": "https://localhost:8080/",
          "height": 424
        },
        "id": "4VgzVUypv6aO",
        "outputId": "ab23db1e-751d-480f-f3f1-67d5367230f8"
      },
      "execution_count": 18,
      "outputs": [
        {
          "output_type": "execute_result",
          "data": {
            "text/plain": [
              "type         country  Movie  TV Show   All\n",
              "81               All   5147     2133  7280\n",
              "75     United States   2100      783  2883\n",
              "28             India    883       73   956\n",
              "74    United Kingdom    341      236   577\n",
              "9             Canada    175       84   259\n",
              "..               ...    ...      ...   ...\n",
              "61          Slovenia      1        0     1\n",
              "49          Paraguay      1        0     1\n",
              "58           Senegal      0        1     1\n",
              "23            Greece      1        0     1\n",
              "41         Mauritius      0        1     1\n",
              "\n",
              "[82 rows x 4 columns]"
            ],
            "text/html": [
              "\n",
              "  <div id=\"df-c8feaf8b-2948-440f-835c-4ffe550eb430\">\n",
              "    <div class=\"colab-df-container\">\n",
              "      <div>\n",
              "<style scoped>\n",
              "    .dataframe tbody tr th:only-of-type {\n",
              "        vertical-align: middle;\n",
              "    }\n",
              "\n",
              "    .dataframe tbody tr th {\n",
              "        vertical-align: top;\n",
              "    }\n",
              "\n",
              "    .dataframe thead th {\n",
              "        text-align: right;\n",
              "    }\n",
              "</style>\n",
              "<table border=\"1\" class=\"dataframe\">\n",
              "  <thead>\n",
              "    <tr style=\"text-align: right;\">\n",
              "      <th>type</th>\n",
              "      <th>country</th>\n",
              "      <th>Movie</th>\n",
              "      <th>TV Show</th>\n",
              "      <th>All</th>\n",
              "    </tr>\n",
              "  </thead>\n",
              "  <tbody>\n",
              "    <tr>\n",
              "      <th>81</th>\n",
              "      <td>All</td>\n",
              "      <td>5147</td>\n",
              "      <td>2133</td>\n",
              "      <td>7280</td>\n",
              "    </tr>\n",
              "    <tr>\n",
              "      <th>75</th>\n",
              "      <td>United States</td>\n",
              "      <td>2100</td>\n",
              "      <td>783</td>\n",
              "      <td>2883</td>\n",
              "    </tr>\n",
              "    <tr>\n",
              "      <th>28</th>\n",
              "      <td>India</td>\n",
              "      <td>883</td>\n",
              "      <td>73</td>\n",
              "      <td>956</td>\n",
              "    </tr>\n",
              "    <tr>\n",
              "      <th>74</th>\n",
              "      <td>United Kingdom</td>\n",
              "      <td>341</td>\n",
              "      <td>236</td>\n",
              "      <td>577</td>\n",
              "    </tr>\n",
              "    <tr>\n",
              "      <th>9</th>\n",
              "      <td>Canada</td>\n",
              "      <td>175</td>\n",
              "      <td>84</td>\n",
              "      <td>259</td>\n",
              "    </tr>\n",
              "    <tr>\n",
              "      <th>...</th>\n",
              "      <td>...</td>\n",
              "      <td>...</td>\n",
              "      <td>...</td>\n",
              "      <td>...</td>\n",
              "    </tr>\n",
              "    <tr>\n",
              "      <th>61</th>\n",
              "      <td>Slovenia</td>\n",
              "      <td>1</td>\n",
              "      <td>0</td>\n",
              "      <td>1</td>\n",
              "    </tr>\n",
              "    <tr>\n",
              "      <th>49</th>\n",
              "      <td>Paraguay</td>\n",
              "      <td>1</td>\n",
              "      <td>0</td>\n",
              "      <td>1</td>\n",
              "    </tr>\n",
              "    <tr>\n",
              "      <th>58</th>\n",
              "      <td>Senegal</td>\n",
              "      <td>0</td>\n",
              "      <td>1</td>\n",
              "      <td>1</td>\n",
              "    </tr>\n",
              "    <tr>\n",
              "      <th>23</th>\n",
              "      <td>Greece</td>\n",
              "      <td>1</td>\n",
              "      <td>0</td>\n",
              "      <td>1</td>\n",
              "    </tr>\n",
              "    <tr>\n",
              "      <th>41</th>\n",
              "      <td>Mauritius</td>\n",
              "      <td>0</td>\n",
              "      <td>1</td>\n",
              "      <td>1</td>\n",
              "    </tr>\n",
              "  </tbody>\n",
              "</table>\n",
              "<p>82 rows × 4 columns</p>\n",
              "</div>\n",
              "      <button class=\"colab-df-convert\" onclick=\"convertToInteractive('df-c8feaf8b-2948-440f-835c-4ffe550eb430')\"\n",
              "              title=\"Convert this dataframe to an interactive table.\"\n",
              "              style=\"display:none;\">\n",
              "        \n",
              "  <svg xmlns=\"http://www.w3.org/2000/svg\" height=\"24px\"viewBox=\"0 0 24 24\"\n",
              "       width=\"24px\">\n",
              "    <path d=\"M0 0h24v24H0V0z\" fill=\"none\"/>\n",
              "    <path d=\"M18.56 5.44l.94 2.06.94-2.06 2.06-.94-2.06-.94-.94-2.06-.94 2.06-2.06.94zm-11 1L8.5 8.5l.94-2.06 2.06-.94-2.06-.94L8.5 2.5l-.94 2.06-2.06.94zm10 10l.94 2.06.94-2.06 2.06-.94-2.06-.94-.94-2.06-.94 2.06-2.06.94z\"/><path d=\"M17.41 7.96l-1.37-1.37c-.4-.4-.92-.59-1.43-.59-.52 0-1.04.2-1.43.59L10.3 9.45l-7.72 7.72c-.78.78-.78 2.05 0 2.83L4 21.41c.39.39.9.59 1.41.59.51 0 1.02-.2 1.41-.59l7.78-7.78 2.81-2.81c.8-.78.8-2.07 0-2.86zM5.41 20L4 18.59l7.72-7.72 1.47 1.35L5.41 20z\"/>\n",
              "  </svg>\n",
              "      </button>\n",
              "      \n",
              "  <style>\n",
              "    .colab-df-container {\n",
              "      display:flex;\n",
              "      flex-wrap:wrap;\n",
              "      gap: 12px;\n",
              "    }\n",
              "\n",
              "    .colab-df-convert {\n",
              "      background-color: #E8F0FE;\n",
              "      border: none;\n",
              "      border-radius: 50%;\n",
              "      cursor: pointer;\n",
              "      display: none;\n",
              "      fill: #1967D2;\n",
              "      height: 32px;\n",
              "      padding: 0 0 0 0;\n",
              "      width: 32px;\n",
              "    }\n",
              "\n",
              "    .colab-df-convert:hover {\n",
              "      background-color: #E2EBFA;\n",
              "      box-shadow: 0px 1px 2px rgba(60, 64, 67, 0.3), 0px 1px 3px 1px rgba(60, 64, 67, 0.15);\n",
              "      fill: #174EA6;\n",
              "    }\n",
              "\n",
              "    [theme=dark] .colab-df-convert {\n",
              "      background-color: #3B4455;\n",
              "      fill: #D2E3FC;\n",
              "    }\n",
              "\n",
              "    [theme=dark] .colab-df-convert:hover {\n",
              "      background-color: #434B5C;\n",
              "      box-shadow: 0px 1px 3px 1px rgba(0, 0, 0, 0.15);\n",
              "      filter: drop-shadow(0px 1px 2px rgba(0, 0, 0, 0.3));\n",
              "      fill: #FFFFFF;\n",
              "    }\n",
              "  </style>\n",
              "\n",
              "      <script>\n",
              "        const buttonEl =\n",
              "          document.querySelector('#df-c8feaf8b-2948-440f-835c-4ffe550eb430 button.colab-df-convert');\n",
              "        buttonEl.style.display =\n",
              "          google.colab.kernel.accessAllowed ? 'block' : 'none';\n",
              "\n",
              "        async function convertToInteractive(key) {\n",
              "          const element = document.querySelector('#df-c8feaf8b-2948-440f-835c-4ffe550eb430');\n",
              "          const dataTable =\n",
              "            await google.colab.kernel.invokeFunction('convertToInteractive',\n",
              "                                                     [key], {});\n",
              "          if (!dataTable) return;\n",
              "\n",
              "          const docLinkHtml = 'Like what you see? Visit the ' +\n",
              "            '<a target=\"_blank\" href=https://colab.research.google.com/notebooks/data_table.ipynb>data table notebook</a>'\n",
              "            + ' to learn more about interactive tables.';\n",
              "          element.innerHTML = '';\n",
              "          dataTable['output_type'] = 'display_data';\n",
              "          await google.colab.output.renderOutput(dataTable, element);\n",
              "          const docLink = document.createElement('div');\n",
              "          docLink.innerHTML = docLinkHtml;\n",
              "          element.appendChild(docLink);\n",
              "        }\n",
              "      </script>\n",
              "    </div>\n",
              "  </div>\n",
              "  "
            ]
          },
          "metadata": {},
          "execution_count": 18
        }
      ]
    },
    {
      "metadata": {
        "dc": {
          "key": "32"
        },
        "deletable": false,
        "editable": false,
        "run_control": {
          "frozen": true
        },
        "tags": [
          "context"
        ],
        "id": "Vr6LRXmKsO8s"
      },
      "cell_type": "markdown",
      "source": [
        "## 5. Filtering for movies!\n",
        "<p>Okay, we have our data! Now we can dive in and start looking at movie lengths. </p>\n",
        "<p>Or can we? Looking at the first five rows of our new DataFrame, we notice a column <code>type</code>. Scanning the column, it's clear there are also TV shows in the dataset! Moreover, the <code>duration</code> column we planned to use seems to represent different values depending on whether the row is a movie or a show (perhaps the number of minutes versus the number of seasons)?</p>\n",
        "<p>Fortunately, a DataFrame allows us to filter data quickly, and we can select rows where <code>type</code> is <code>Movie</code>. While we're at it, we don't need information from all of the columns, so let's create a new DataFrame <code>netflix_movies</code> containing only <code>title</code>, <code>country</code>, <code>genre</code>, <code>release_year</code>, and <code>duration</code>.</p>\n",
        "<p>Let's put our data subsetting skills to work!</p>"
      ]
    },
    {
      "metadata": {
        "dc": {
          "key": "32"
        },
        "tags": [
          "sample_code"
        ],
        "trusted": true,
        "id": "jzXuv7vqsO8t",
        "outputId": "48f0c48d-1595-4a24-d16c-07e75df60b01"
      },
      "cell_type": "code",
      "source": [
        "# Subset the DataFrame for type \"Movie\"\n",
        "netflix_df_movies_only = netflix_df[(netflix_df['type']==\"Movie\")]\n",
        "\n",
        "# Select only the columns of interest\n",
        "netflix_movies_col_subset = netflix_df_movies_only[['title','country', 'genre', 'release_year', 'duration']]\n",
        "\n",
        "# Print the first five rows of the new DataFrame\n",
        "netflix_movies_col_subset.head()"
      ],
      "execution_count": null,
      "outputs": [
        {
          "output_type": "execute_result",
          "execution_count": 17,
          "data": {
            "text/plain": "   title        country          genre  release_year  duration\n1   7:19         Mexico         Dramas          2016        93\n2  23:59      Singapore  Horror Movies          2011        78\n3      9  United States         Action          2009        80\n4     21  United States         Dramas          2008       123\n6    122          Egypt  Horror Movies          2019        95",
            "text/html": "<div>\n<style scoped>\n    .dataframe tbody tr th:only-of-type {\n        vertical-align: middle;\n    }\n\n    .dataframe tbody tr th {\n        vertical-align: top;\n    }\n\n    .dataframe thead th {\n        text-align: right;\n    }\n</style>\n<table border=\"1\" class=\"dataframe\">\n  <thead>\n    <tr style=\"text-align: right;\">\n      <th></th>\n      <th>title</th>\n      <th>country</th>\n      <th>genre</th>\n      <th>release_year</th>\n      <th>duration</th>\n    </tr>\n  </thead>\n  <tbody>\n    <tr>\n      <th>1</th>\n      <td>7:19</td>\n      <td>Mexico</td>\n      <td>Dramas</td>\n      <td>2016</td>\n      <td>93</td>\n    </tr>\n    <tr>\n      <th>2</th>\n      <td>23:59</td>\n      <td>Singapore</td>\n      <td>Horror Movies</td>\n      <td>2011</td>\n      <td>78</td>\n    </tr>\n    <tr>\n      <th>3</th>\n      <td>9</td>\n      <td>United States</td>\n      <td>Action</td>\n      <td>2009</td>\n      <td>80</td>\n    </tr>\n    <tr>\n      <th>4</th>\n      <td>21</td>\n      <td>United States</td>\n      <td>Dramas</td>\n      <td>2008</td>\n      <td>123</td>\n    </tr>\n    <tr>\n      <th>6</th>\n      <td>122</td>\n      <td>Egypt</td>\n      <td>Horror Movies</td>\n      <td>2019</td>\n      <td>95</td>\n    </tr>\n  </tbody>\n</table>\n</div>"
          },
          "metadata": {}
        }
      ]
    },
    {
      "metadata": {
        "dc": {
          "key": "39"
        },
        "deletable": false,
        "editable": false,
        "run_control": {
          "frozen": true
        },
        "tags": [
          "context"
        ],
        "id": "FZrigYJusO8t"
      },
      "cell_type": "markdown",
      "source": [
        "## 6. Creating a scatter plot\n",
        "<p>Okay, now we're getting somewhere. We've read in the raw data, selected rows of movies, and have limited our DataFrame to our columns of interest. Let's try visualizing the data again to inspect the data over a longer range of time.</p>\n",
        "<p>This time, we are no longer working with aggregates but instead with individual movies. A line plot is no longer a good choice for our data, so let's try a scatter plot instead. We will again plot the year of release on the x-axis and the movie duration on the y-axis.</p>\n",
        "<p><em>Note: Although not taught in Intermediate Python, we have provided you the code <code>fig = plt.figure(figsize=(12,8))</code> to increase the size of the plot (to help you see the results), as well as to assist with testing. For more information on how to create or work with a <code>matplotlib</code> <code>figure</code>, refer to the <a href=\"https://matplotlib.org/stable/api/_as_gen/matplotlib.pyplot.figure.html\">documentation</a>.</em></p>"
      ]
    },
    {
      "metadata": {
        "dc": {
          "key": "39"
        },
        "tags": [
          "sample_code"
        ],
        "trusted": true,
        "id": "U69dcAEysO8u",
        "outputId": "7e9dfb26-d45b-4158-e108-348b8acaf76a"
      },
      "cell_type": "code",
      "source": [
        "# Create a figure and increase the figure size\n",
        "fig = plt.figure(figsize=(12,8))\n",
        "\n",
        "# Create a scatter plot of duration versus year\n",
        "plt.scatter(netflix_movies_col_subset['release_year'],netflix_movies_col_subset['duration'])\n",
        "\n",
        "# Create a title\n",
        "plt.title(\"Movie Duration by Year of Release\")\n",
        "plt.xlabel(\"Movie Release Year\")\n",
        "plt.ylabel(\"Movie Length (Min)\")\n",
        "# Show the plot\n",
        "plt.show()"
      ],
      "execution_count": null,
      "outputs": [
        {
          "output_type": "display_data",
          "data": {
            "text/plain": "<Figure size 864x576 with 1 Axes>",
            "image/png": "[encoded data removed]"
          },
          "metadata": {
            "needs_background": "light"
          }
        }
      ]
    },
    {
      "metadata": {
        "dc": {
          "key": "46"
        },
        "deletable": false,
        "editable": false,
        "run_control": {
          "frozen": true
        },
        "tags": [
          "context"
        ],
        "id": "V7WyhC5esO8u"
      },
      "cell_type": "markdown",
      "source": [
        "## 7. Digging deeper\n",
        "<p>This is already much more informative than the simple plot we created when our friend first gave us some data. We can also see that, while newer movies are overrepresented on the platform, many short movies have been released in the past two decades.</p>\n",
        "<p>Upon further inspection, something else is going on. Some of these films are under an hour long! Let's filter our DataFrame for movies with a <code>duration</code> under 60 minutes and look at the genres. This might give us some insight into what is dragging down the average.</p>"
      ]
    },
    {
      "metadata": {
        "dc": {
          "key": "46"
        },
        "tags": [
          "sample_code"
        ],
        "trusted": true,
        "id": "FdqKhRddsO8u",
        "outputId": "3ea9cbc7-96a2-4fb3-b3d2-6c66a6c42f22"
      },
      "cell_type": "code",
      "source": [
        "# Filter for durations shorter than 60 minutes\n",
        "short_movies = netflix_movies_col_subset[netflix_movies_col_subset['duration'] < 60] \n",
        "\n",
        "# Print the first 20 rows of short_movies\n",
        "short_movies.head(20)"
      ],
      "execution_count": null,
      "outputs": [
        {
          "output_type": "execute_result",
          "execution_count": 20,
          "data": {
            "text/plain": "                                                 title         country  \\\n35                                           #Rucker50   United States   \n55                 100 Things to do Before High School   United States   \n67   13TH: A Conversation with Oprah Winfrey & Ava ...             NaN   \n101                                  3 Seconds Divorce          Canada   \n146                                     A 3 Minute Hug          Mexico   \n162  A Christmas Special: Miraculous: Tales of Lady...          France   \n171                         A Family Reunion Christmas   United States   \n177                    A Go! Go! Cory Carson Christmas   United States   \n178                    A Go! Go! Cory Carson Halloween             NaN   \n179                  A Go! Go! Cory Carson Summer Camp             NaN   \n181             A Grand Night In: The Story of Aardman  United Kingdom   \n200                            A Love Song for Latasha   United States   \n220                         A Russell Peters Christmas          Canada   \n233                              A StoryBots Christmas   United States   \n237                             A Tale of Two Kitchens   United States   \n242                            A Trash Truck Christmas             NaN   \n247                            A Very Murray Christmas   United States   \n285                               Abominable Christmas   United States   \n295                                 Across Grace Alley   United States   \n305                Adam Devine: Best Time of Our Lives   United States   \n\n             genre  release_year  duration  \n35   Documentaries          2016        56  \n55   Uncategorized          2014        44  \n67   Uncategorized          2017        37  \n101  Documentaries          2018        53  \n146  Documentaries          2019        28  \n162  Uncategorized          2016        22  \n171  Uncategorized          2019        29  \n177       Children          2020        22  \n178       Children          2020        22  \n179       Children          2020        21  \n181  Documentaries          2015        59  \n200  Documentaries          2020        20  \n220       Stand-Up          2011        44  \n233       Children          2017        26  \n237  Documentaries          2019        30  \n242       Children          2020        28  \n247       Comedies          2015        57  \n285       Children          2012        44  \n295         Dramas          2013        24  \n305       Stand-Up          2019        59  ",
            "text/html": "<div>\n<style scoped>\n    .dataframe tbody tr th:only-of-type {\n        vertical-align: middle;\n    }\n\n    .dataframe tbody tr th {\n        vertical-align: top;\n    }\n\n    .dataframe thead th {\n        text-align: right;\n    }\n</style>\n<table border=\"1\" class=\"dataframe\">\n  <thead>\n    <tr style=\"text-align: right;\">\n      <th></th>\n      <th>title</th>\n      <th>country</th>\n      <th>genre</th>\n      <th>release_year</th>\n      <th>duration</th>\n    </tr>\n  </thead>\n  <tbody>\n    <tr>\n      <th>35</th>\n      <td>#Rucker50</td>\n      <td>United States</td>\n      <td>Documentaries</td>\n      <td>2016</td>\n      <td>56</td>\n    </tr>\n    <tr>\n      <th>55</th>\n      <td>100 Things to do Before High School</td>\n      <td>United States</td>\n      <td>Uncategorized</td>\n      <td>2014</td>\n      <td>44</td>\n    </tr>\n    <tr>\n      <th>67</th>\n      <td>13TH: A Conversation with Oprah Winfrey &amp; Ava ...</td>\n      <td>NaN</td>\n      <td>Uncategorized</td>\n      <td>2017</td>\n      <td>37</td>\n    </tr>\n    <tr>\n      <th>101</th>\n      <td>3 Seconds Divorce</td>\n      <td>Canada</td>\n      <td>Documentaries</td>\n      <td>2018</td>\n      <td>53</td>\n    </tr>\n    <tr>\n      <th>146</th>\n      <td>A 3 Minute Hug</td>\n      <td>Mexico</td>\n      <td>Documentaries</td>\n      <td>2019</td>\n      <td>28</td>\n    </tr>\n    <tr>\n      <th>162</th>\n      <td>A Christmas Special: Miraculous: Tales of Lady...</td>\n      <td>France</td>\n      <td>Uncategorized</td>\n      <td>2016</td>\n      <td>22</td>\n    </tr>\n    <tr>\n      <th>171</th>\n      <td>A Family Reunion Christmas</td>\n      <td>United States</td>\n      <td>Uncategorized</td>\n      <td>2019</td>\n      <td>29</td>\n    </tr>\n    <tr>\n      <th>177</th>\n      <td>A Go! Go! Cory Carson Christmas</td>\n      <td>United States</td>\n      <td>Children</td>\n      <td>2020</td>\n      <td>22</td>\n    </tr>\n    <tr>\n      <th>178</th>\n      <td>A Go! Go! Cory Carson Halloween</td>\n      <td>NaN</td>\n      <td>Children</td>\n      <td>2020</td>\n      <td>22</td>\n    </tr>\n    <tr>\n      <th>179</th>\n      <td>A Go! Go! Cory Carson Summer Camp</td>\n      <td>NaN</td>\n      <td>Children</td>\n      <td>2020</td>\n      <td>21</td>\n    </tr>\n    <tr>\n      <th>181</th>\n      <td>A Grand Night In: The Story of Aardman</td>\n      <td>United Kingdom</td>\n      <td>Documentaries</td>\n      <td>2015</td>\n      <td>59</td>\n    </tr>\n    <tr>\n      <th>200</th>\n      <td>A Love Song for Latasha</td>\n      <td>United States</td>\n      <td>Documentaries</td>\n      <td>2020</td>\n      <td>20</td>\n    </tr>\n    <tr>\n      <th>220</th>\n      <td>A Russell Peters Christmas</td>\n      <td>Canada</td>\n      <td>Stand-Up</td>\n      <td>2011</td>\n      <td>44</td>\n    </tr>\n    <tr>\n      <th>233</th>\n      <td>A StoryBots Christmas</td>\n      <td>United States</td>\n      <td>Children</td>\n      <td>2017</td>\n      <td>26</td>\n    </tr>\n    <tr>\n      <th>237</th>\n      <td>A Tale of Two Kitchens</td>\n      <td>United States</td>\n      <td>Documentaries</td>\n      <td>2019</td>\n      <td>30</td>\n    </tr>\n    <tr>\n      <th>242</th>\n      <td>A Trash Truck Christmas</td>\n      <td>NaN</td>\n      <td>Children</td>\n      <td>2020</td>\n      <td>28</td>\n    </tr>\n    <tr>\n      <th>247</th>\n      <td>A Very Murray Christmas</td>\n      <td>United States</td>\n      <td>Comedies</td>\n      <td>2015</td>\n      <td>57</td>\n    </tr>\n    <tr>\n      <th>285</th>\n      <td>Abominable Christmas</td>\n      <td>United States</td>\n      <td>Children</td>\n      <td>2012</td>\n      <td>44</td>\n    </tr>\n    <tr>\n      <th>295</th>\n      <td>Across Grace Alley</td>\n      <td>United States</td>\n      <td>Dramas</td>\n      <td>2013</td>\n      <td>24</td>\n    </tr>\n    <tr>\n      <th>305</th>\n      <td>Adam Devine: Best Time of Our Lives</td>\n      <td>United States</td>\n      <td>Stand-Up</td>\n      <td>2019</td>\n      <td>59</td>\n    </tr>\n  </tbody>\n</table>\n</div>"
          },
          "metadata": {}
        }
      ]
    },
    {
      "metadata": {
        "dc": {
          "key": "46"
        },
        "trusted": true,
        "id": "7tGJyiDjsO8v",
        "outputId": "7e1f3b8d-1d89-4f5f-85f7-5c1b51667ddd"
      },
      "cell_type": "code",
      "source": [
        "\n",
        "short_movies.groupby('genre').size().sort_values(ascending=False).reset_index(name='Movie Count')"
      ],
      "execution_count": null,
      "outputs": [
        {
          "output_type": "execute_result",
          "execution_count": 22,
          "data": {
            "text/plain": "                   genre  Movie Count\n0          Documentaries          151\n1               Children          107\n2               Stand-Up           72\n3          Uncategorized           40\n4               Comedies           15\n5                 Dramas           12\n6         Classic Movies            8\n7                 Action            6\n8   International Movies            3\n9         Anime Features            3\n10                 Music            2\n11         Horror Movies            1",
            "text/html": "<div>\n<style scoped>\n    .dataframe tbody tr th:only-of-type {\n        vertical-align: middle;\n    }\n\n    .dataframe tbody tr th {\n        vertical-align: top;\n    }\n\n    .dataframe thead th {\n        text-align: right;\n    }\n</style>\n<table border=\"1\" class=\"dataframe\">\n  <thead>\n    <tr style=\"text-align: right;\">\n      <th></th>\n      <th>genre</th>\n      <th>Movie Count</th>\n    </tr>\n  </thead>\n  <tbody>\n    <tr>\n      <th>0</th>\n      <td>Documentaries</td>\n      <td>151</td>\n    </tr>\n    <tr>\n      <th>1</th>\n      <td>Children</td>\n      <td>107</td>\n    </tr>\n    <tr>\n      <th>2</th>\n      <td>Stand-Up</td>\n      <td>72</td>\n    </tr>\n    <tr>\n      <th>3</th>\n      <td>Uncategorized</td>\n      <td>40</td>\n    </tr>\n    <tr>\n      <th>4</th>\n      <td>Comedies</td>\n      <td>15</td>\n    </tr>\n    <tr>\n      <th>5</th>\n      <td>Dramas</td>\n      <td>12</td>\n    </tr>\n    <tr>\n      <th>6</th>\n      <td>Classic Movies</td>\n      <td>8</td>\n    </tr>\n    <tr>\n      <th>7</th>\n      <td>Action</td>\n      <td>6</td>\n    </tr>\n    <tr>\n      <th>8</th>\n      <td>International Movies</td>\n      <td>3</td>\n    </tr>\n    <tr>\n      <th>9</th>\n      <td>Anime Features</td>\n      <td>3</td>\n    </tr>\n    <tr>\n      <th>10</th>\n      <td>Music</td>\n      <td>2</td>\n    </tr>\n    <tr>\n      <th>11</th>\n      <td>Horror Movies</td>\n      <td>1</td>\n    </tr>\n  </tbody>\n</table>\n</div>"
          },
          "metadata": {}
        }
      ]
    },
    {
      "metadata": {
        "dc": {
          "key": "53"
        },
        "deletable": false,
        "editable": false,
        "run_control": {
          "frozen": true
        },
        "tags": [
          "context"
        ],
        "id": "r9nKAEjhsO8v"
      },
      "cell_type": "markdown",
      "source": [
        "## 8. Marking non-feature films\n",
        "<p>Interesting! It looks as though many of the films that are under 60 minutes fall into genres such as \"Children\", \"Stand-Up\", and \"Documentaries\". This is a logical result, as these types of films are probably often shorter than 90 minute Hollywood blockbuster. </p>\n",
        "<p>We could eliminate these rows from our DataFrame and plot the values again. But another interesting way to explore the effect of these genres on our data would be to plot them, but mark them with a different color.</p>\n",
        "<p>In Python, there are many ways to do this, but one fun way might be to use a loop to generate a list of colors based on the contents of the <code>genre</code> column. Much as we did in Intermediate Python, we can then pass this list to our plotting function in a later step to color all non-typical genres in a different color!</p>\n",
        "<p><em>Note: Although we are using the basic colors of red, blue, green, and black, <code>matplotlib</code> has many named colors you can use when creating plots. For more information, you can refer to the documentation <a href=\"https://matplotlib.org/stable/gallery/color/named_colors.html\">here</a>!</em></p>"
      ]
    },
    {
      "metadata": {
        "dc": {
          "key": "53"
        },
        "tags": [
          "sample_code"
        ],
        "trusted": true,
        "id": "GJR6s4H6sO8v",
        "outputId": "b2ea2b92-c32c-4f8c-cf12-a06f0c728329"
      },
      "cell_type": "code",
      "source": [
        "# Define an empty list\n",
        "colors = []\n",
        "\n",
        "# Iterate over rows of netflix_movies_col_subset\n",
        "for lab,row in netflix_movies_col_subset.iterrows() :\n",
        "    if row['genre']== \"Children\" :\n",
        "        colors.append('red')\n",
        "    elif row['genre']== \"Documentaries\" :\n",
        "        colors.append('blue')\n",
        "    elif row['genre']== \"Stand-Up\" :\n",
        "        colors.append('green')\n",
        "    else:\n",
        "        colors.append('black')\n",
        "        \n",
        "# Inspect the first 10 values in your list        \n",
        "colors[0:10]"
      ],
      "execution_count": null,
      "outputs": [
        {
          "output_type": "execute_result",
          "execution_count": 24,
          "data": {
            "text/plain": "['black',\n 'black',\n 'black',\n 'black',\n 'black',\n 'black',\n 'black',\n 'black',\n 'black',\n 'blue']"
          },
          "metadata": {}
        }
      ]
    },
    {
      "metadata": {
        "dc": {
          "key": "60"
        },
        "deletable": false,
        "editable": false,
        "run_control": {
          "frozen": true
        },
        "tags": [
          "context"
        ],
        "id": "Tunw9MxJsO8w"
      },
      "cell_type": "markdown",
      "source": [
        "## 9. Plotting with color!\n",
        "<p>Lovely looping! We now have a <code>colors</code> list that we can pass to our scatter plot, which should allow us to visually inspect whether these genres might be responsible for the decline in the average duration of movies.</p>\n",
        "<p>This time, we'll also spruce up our plot with some additional axis labels and a new theme with <code>plt.style.use()</code>. The latter isn't taught in Intermediate Python, but can be a fun way to add some visual flair to a basic <code>matplotlib</code> plot. You can find more information on customizing the style of your plot <a href=\"https://matplotlib.org/stable/tutorials/introductory/customizing.html\">here</a>!</p>"
      ]
    },
    {
      "metadata": {
        "dc": {
          "key": "60"
        },
        "tags": [
          "sample_code"
        ],
        "trusted": true,
        "id": "JVruSIUdsO8w",
        "outputId": "97cc0693-9567-4a09-e38e-d67edc1689fe"
      },
      "cell_type": "code",
      "source": [
        "# Set the figure style and initalize a new figure\n",
        "plt.style.use('fivethirtyeight')\n",
        "fig = plt.figure(figsize=(12,8))\n",
        "\n",
        "# Create a scatter plot of duration versus release_year\n",
        "plt.scatter(netflix_movies_col_subset['release_year'],netflix_movies_col_subset['duration'],color=colors)\n",
        "\n",
        "# Create a title and axis labels\n",
        "plt.title(\"Movie Duration by Year of Release\")\n",
        "plt.xlabel(\"Movie Release Year\")\n",
        "plt.ylabel(\"Movie Length (Min)\")\n",
        "\n",
        "# Show the plot\n",
        "plt.show()"
      ],
      "execution_count": null,
      "outputs": [
        {
          "output_type": "display_data",
          "data": {
            "text/plain": "<Figure size 864x576 with 1 Axes>",
            "image/png": "[encoded data removed]"
          },
          "metadata": {}
        }
      ]
    },
    {
      "cell_type": "code",
      "source": [
        ""
      ],
      "metadata": {
        "id": "v-AMUHQquaqj"
      },
      "execution_count": null,
      "outputs": []
    },
    {
      "metadata": {
        "dc": {
          "key": "67"
        },
        "deletable": false,
        "editable": false,
        "run_control": {
          "frozen": true
        },
        "tags": [
          "context"
        ],
        "id": "zZ-Q9C04sO8x"
      },
      "cell_type": "markdown",
      "source": [
        "## 10. What next?\n",
        "<p>Well, as we suspected, non-typical genres such as children's movies and documentaries are all clustered around the bottom half of the plot. But we can't know for certain until we perform additional analyses. </p>\n",
        "<p>Congratulations, you've performed an exploratory analysis of some entertainment data, and there are lots of fun ways to develop your skills as a Pythonic data scientist. These include learning how to analyze data further with statistics, creating more advanced visualizations, and perhaps most importantly, learning more advanced ways of working with data in <code>pandas</code>. This latter skill is covered in our fantastic course <a href=\"www.datacamp.com/courses/data-manipulation-with-pandas\">Data Manipulation with pandas</a>.</p>\n",
        "<p>We hope you enjoyed this application of the skills learned in Intermediate Python, and wish you all the best on the rest of your journey!</p>"
      ]
    },
    {
      "metadata": {
        "dc": {
          "key": "67"
        },
        "tags": [
          "sample_code"
        ],
        "collapsed": true,
        "trusted": true,
        "id": "lQGjchnTsO8x"
      },
      "cell_type": "code",
      "source": [
        "# Are we certain that movies are getting shorter?\n",
        "are_movies_getting_shorter = \"maybe\""
      ],
      "execution_count": null,
      "outputs": []
    }
  ],
  "metadata": {
    "kernelspec": {
      "name": "python3",
      "display_name": "Python 3",
      "language": "python"
    },
    "language_info": {
      "name": "python",
      "version": "3.6.7",
      "mimetype": "text/x-python",
      "codemirror_mode": {
        "name": "ipython",
        "version": 3
      },
      "pygments_lexer": "ipython3",
      "nbconvert_exporter": "python",
      "file_extension": ".py"
    },
    "colab": {
      "name": "Netflix.ipynb",
      "provenance": [],
      "include_colab_link": true
    }
  },
  "nbformat": 4,
  "nbformat_minor": 0
}